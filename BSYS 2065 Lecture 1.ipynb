{
 "cells": [
  {
   "cell_type": "markdown",
   "id": "2018ce0d-3146-4204-be54-3f4c80076cb3",
   "metadata": {
    "@deathbeds/jupyterlab-fonts": {
     "styles": {
      "": {
       "body[data-jp-deck-mode='presenting'] &": {
        "zoom": "205%"
       }
      }
     }
    },
    "slideshow": {
     "slide_type": "slide"
    }
   },
   "source": [
    "# BSYS 2065\n",
    "\n",
    "## Business Systems Programming\n",
    "\n",
    "### Lecture 1"
   ]
  },
  {
   "cell_type": "markdown",
   "id": "7511a2c4-7814-48e6-8052-2b868d81d66a",
   "metadata": {
    "@deathbeds/jupyterlab-fonts": {
     "styles": {
      "": {
       "body[data-jp-deck-mode='presenting'] &": {
        "zoom": "205%"
       }
      }
     }
    },
    "slideshow": {
     "slide_type": "slide"
    }
   },
   "source": [
    "## Set A Room Change\n",
    "\n",
    "### SE12 324 today and going forward"
   ]
  },
  {
   "cell_type": "markdown",
   "id": "e454edca-2808-403b-b33a-1334171a76ea",
   "metadata": {
    "@deathbeds/jupyterlab-fonts": {
     "styles": {
      "": {
       "body[data-jp-deck-mode='presenting'] &": {
        "zoom": "256%"
       }
      }
     }
    },
    "slideshow": {
     "slide_type": "slide"
    }
   },
   "source": [
    "Course outline: https://www.bcit.ca/outlines/20251072477/\n",
    "\n",
    "- Conceptual course\n",
    "- Provides foundation for data science and development\n",
    "- Focus is on problem solving"
   ]
  },
  {
   "cell_type": "markdown",
   "id": "4a6664da-962d-422b-801b-9ff9529592d2",
   "metadata": {
    "@deathbeds/jupyterlab-fonts": {
     "styles": {
      "": {
       "body[data-jp-deck-mode='presenting'] &": {
        "zoom": "224%"
       }
      }
     }
    },
    "slideshow": {
     "slide_type": "slide"
    }
   },
   "source": [
    "## Textbook\n",
    "Primary resource:  How to Think Like a Computer Scientist: Interactive Edition:\n",
    "https://runestone.academy/runestone/books/published/thinkcspy/index.html\n",
    "\n",
    "Register using <span style=\"color:red\">2025BSYS2065ITMG2A</span> or <span style=\"color:red\">2025BSYS2065ITMG2B</span> or <span style=\"color:red\">2025BSYS2065ITMG2C</span> (use your own set) for the Course Name and your first and last name for the Username (e.g. tanner_brine)."
   ]
  },
  {
   "attachments": {},
   "cell_type": "markdown",
   "id": "c1f0846c-6e53-48a9-9996-49b74070bdd2",
   "metadata": {
    "@deathbeds/jupyterlab-fonts": {
     "styles": {
      "": {
       "body[data-jp-deck-mode='presenting'] &": {
        "zoom": "215%"
       }
      }
     }
    },
    "slideshow": {
     "slide_type": "slide"
    }
   },
   "source": [
    "## Algorithms\n",
    "- An algorithm is a step by step list of instructions that if followed exactly will solve the problem under consideration\n",
    "- Program is a sequence of instructions that specifies how to perform a computation\n",
    "- Programs automate algorithms\n",
    "- Programs are written in programming languages\n",
    "- This course uses the Python programming language to illustrate programming concepts"
   ]
  },
  {
   "cell_type": "markdown",
   "id": "fb51dca9-033c-4f3c-b766-86c6029a8cc4",
   "metadata": {
    "@deathbeds/jupyterlab-fonts": {
     "styles": {
      "": {
       "body[data-jp-deck-mode='presenting'] &": {
        "zoom": "154%"
       }
      }
     }
    },
    "slideshow": {
     "slide_type": "subslide"
    }
   },
   "source": [
    "### Example\n",
    "**Problem:** Find the maximum number in a list of integers (what is an integer?)\n",
    "\n",
    "2, 5, 3, 5, 10, 7, 4, 8, 6, 3\n",
    "\n",
    "1. Set currentMax to first number (currentMax = 2)\n",
    "2. Compare second number to currentMax\n",
    "3. Since second number > currentMax (5>2) set currentMax to second number (currentMax = 3)\n",
    "4. Compare third number to currentMax\n",
    "5. Since third number < currentMax (3<5) move to next number\n",
    "6. Repeat for numbers 4-10\n",
    "7. Maximum number is the value of currentMax after all numbers have been compared"
   ]
  },
  {
   "cell_type": "markdown",
   "id": "954839a2-e8c2-4be7-9eac-24d3d0ab37a4",
   "metadata": {
    "@deathbeds/jupyterlab-fonts": {
     "styles": {
      "": {
       "body[data-jp-deck-mode='presenting'] &": {
        "zoom": "170%"
       }
      }
     }
    },
    "slideshow": {
     "slide_type": "slide"
    }
   },
   "source": [
    "## Programming Languages\n",
    "\n",
    "- High-level language\n",
    "- Low-level language – machine or assembly language\n",
    "- An interpreter reads a high-level program and executes it line by line\n",
    "- A compiler reads the program and translates it completely before the program starts running\n",
    "- Source code is converted to object code/executable"
   ]
  },
  {
   "attachments": {},
   "cell_type": "markdown",
   "id": "933573a3-9e0c-4692-b586-53ca4b1bf774",
   "metadata": {
    "@deathbeds/jupyterlab-fonts": {
     "styles": {
      "": {
       "body[data-jp-deck-mode='presenting'] &": {
        "zoom": "237%"
       }
      }
     }
    },
    "slideshow": {
     "slide_type": "slide"
    }
   },
   "source": [
    "## The Python Interpreter\n",
    "- https://www.python.org/downloads/\n",
    "- Download latest version\n",
    "- Run installer with all options selected (<span style=\"color:red\">Add python.exe to PATH -> Install Now</span>)\n",
    "- Interactive mode (Shell) - the Python prompt: >>>\n",
    "- Script mode"
   ]
  },
  {
   "cell_type": "markdown",
   "id": "3fb90b4a-f9af-4275-bf41-60b36196e715",
   "metadata": {
    "@deathbeds/jupyterlab-fonts": {
     "styles": {
      "": {
       "body[data-jp-deck-mode='presenting'] &": {
        "zoom": "317%"
       }
      }
     }
    },
    "slideshow": {
     "slide_type": "slide"
    }
   },
   "source": [
    "## Interactive Mode\n",
    "- Open Python\n",
    "- print(\"Hello, World.\")"
   ]
  },
  {
   "cell_type": "code",
   "execution_count": null,
   "id": "59af5675-1ddf-405b-91bb-394016ac4035",
   "metadata": {
    "@deathbeds/jupyterlab-fonts": {
     "styles": {
      "": {
       "body[data-jp-deck-mode='presenting'] &": {
        "zoom": "339%"
       }
      }
     }
    },
    "slideshow": {
     "slide_type": "subslide"
    }
   },
   "outputs": [],
   "source": [
    "print(\"Hello, World\")"
   ]
  },
  {
   "cell_type": "markdown",
   "id": "3643d722-a23e-4468-a8b3-34a7d797b973",
   "metadata": {
    "@deathbeds/jupyterlab-fonts": {
     "styles": {
      "": {
       "body[data-jp-deck-mode='presenting'] &": {
        "zoom": "221%"
       }
      }
     }
    },
    "slideshow": {
     "slide_type": "slide"
    }
   },
   "source": [
    "## File Management\n",
    "Before we start creating Python files, take a few minutes to get organized. If you have a folder structure that works for you, great. However, if you're saving all your files loose on your desktop, or in your downloads folder, please don't.\n",
    "- Find your documents folder\n",
    "- Create a new folder BSYS-2065\n",
    "- Create a new subfolder Python"
   ]
  },
  {
   "cell_type": "markdown",
   "id": "71e9da37-6121-40aa-a88d-b95477bd9b38",
   "metadata": {
    "@deathbeds/jupyterlab-fonts": {
     "styles": {
      "": {
       "body[data-jp-deck-mode='presenting'] &": {
        "zoom": "247%"
       }
      }
     }
    },
    "slideshow": {
     "slide_type": "slide"
    }
   },
   "source": [
    "## IDLE\n",
    "- Open IDLE\n",
    "- File/New File\n",
    "- print(\"Hello, World.\")\n",
    "- Save as test.py (the source code)\n",
    "- Run/Run Module in test.py"
   ]
  },
  {
   "cell_type": "markdown",
   "id": "1bf0bb5a-188e-4390-9992-49ab70b1547d",
   "metadata": {
    "@deathbeds/jupyterlab-fonts": {
     "styles": {
      "": {
       "body[data-jp-deck-mode='presenting'] &": {
        "zoom": "216%"
       }
      }
     }
    },
    "slideshow": {
     "slide_type": "slide"
    }
   },
   "source": [
    "## Formal and Natural Languages\n",
    "- Natural languages are the languages that people speak (e.g. English, Spanish, etc.)\n",
    "    - Generally, allow for rhetorical devices such as metaphor, hyperbole, sarcasm\n",
    "- Formal languages are languages that are designed by people for specific applications (e.g.)\n",
    "    - Literal, precise"
   ]
  },
  {
   "attachments": {},
   "cell_type": "markdown",
   "id": "01f7ba5e-683e-43d7-ad4e-98189b61575e",
   "metadata": {
    "@deathbeds/jupyterlab-fonts": {
     "styles": {
      "": {
       "body[data-jp-deck-mode='presenting'] &": {
        "zoom": "212%"
       }
      }
     }
    },
    "slideshow": {
     "slide_type": "slide"
    }
   },
   "source": [
    "## Everything Programs Do\n",
    "- Input - Get data from the keyboard, a file, or some other device (the Internet)\n",
    "- Output - display data on the screen or send data to a file or another device\n",
    "- Math and logic - perform basic mathematical operations like addition and multiplication and logical operations like and, or, and not\n",
    "- Conditional execution - check for certain conditions and execute the appropriate sequence of statements\n",
    "- Repetition - perform some action repeatedly, usually with some variation"
   ]
  },
  {
   "cell_type": "code",
   "execution_count": null,
   "id": "5b09a1ce-9b35-4026-a3eb-282066f55f3f",
   "metadata": {
    "@deathbeds/jupyterlab-fonts": {
     "styles": {
      "": {
       "body[data-jp-deck-mode='presenting'] &": {
        "zoom": "202%"
       }
      }
     }
    },
    "slideshow": {
     "slide_type": "subslide"
    }
   },
   "outputs": [],
   "source": [
    "num1 = input(\"Please enter a number\")\n",
    "num2 = input(\"Please enter a second number\")\n",
    "num1 = int(num1)\n",
    "num2 = int(num2)\n",
    "operation = input(\"Should we add or multiply?\")\n",
    "if operation == \"add\":\n",
    "    print(\"The sum is: \"+ str(num1+num2))\n",
    "else:\n",
    "    print(\"The product is: \"+str(num1*num2))"
   ]
  },
  {
   "cell_type": "code",
   "execution_count": null,
   "id": "43b25570-5520-4661-8d12-865f494afe94",
   "metadata": {
    "@deathbeds/jupyterlab-fonts": {
     "styles": {
      "": {
       "body[data-jp-deck-mode='presenting'] &": {
        "zoom": "244%"
       }
      }
     }
    },
    "scrolled": true,
    "slideshow": {
     "slide_type": "subslide"
    }
   },
   "outputs": [],
   "source": [
    "intList = [2, 5, 3, 5, 10, 7, 4, 8, 6, 3]\n",
    "currentMax = intList[0]\n",
    "for i in intList:\n",
    "    if i > currentMax:\n",
    "        currentMax = i\n",
    "    print(currentMax)"
   ]
  },
  {
   "cell_type": "markdown",
   "id": "f468ec3a-2c43-44a5-b8dd-1048020acce0",
   "metadata": {
    "@deathbeds/jupyterlab-fonts": {
     "styles": {
      "": {
       "body[data-jp-deck-mode='presenting'] &": {
        "zoom": "199%"
       }
      }
     }
    },
    "slideshow": {
     "slide_type": "slide"
    }
   },
   "source": [
    "## Comments\n",
    "- A comment in a computer program is text that is intended only for the human reader\n",
    "- The # token starts a comment\n",
    "- The comment has no impact on the program, but helps you and anyone else who has to work on your code understand what is happening\n",
    "- Good comments are a requirement of good code!"
   ]
  },
  {
   "cell_type": "code",
   "execution_count": null,
   "id": "c24fb4af-a70d-4c3b-bc97-3a7c0ebeb3ae",
   "metadata": {
    "@deathbeds/jupyterlab-fonts": {
     "styles": {
      "": {
       "body[data-jp-deck-mode='presenting'] &": {
        "zoom": "173%"
       }
      }
     }
    },
    "scrolled": true,
    "slideshow": {
     "slide_type": "subslide"
    }
   },
   "outputs": [],
   "source": [
    "# We want to get the max value in this array of integers\n",
    "intList = [2, 5, 3, 5, 10, 7, 4, 8, 6, 3]\n",
    "# To start, we set currentMax to the first value in the array\n",
    "currentMax = intList[0]\n",
    "# Then, we go through each integer in the array\n",
    "for i in intList:\n",
    "    # For each integer, if it's greater than currentMax, we update currentMax to equal that integer\n",
    "    if i > currentMax:\n",
    "        currentMax = i\n",
    "    print(currentMax)"
   ]
  },
  {
   "attachments": {},
   "cell_type": "markdown",
   "id": "ecaed90f-9534-457a-8b21-de9867554c31",
   "metadata": {
    "@deathbeds/jupyterlab-fonts": {
     "styles": {
      "": {
       "body[data-jp-deck-mode='presenting'] &": {
        "zoom": "199%"
       }
      }
     }
    },
    "slideshow": {
     "slide_type": "slide"
    }
   },
   "source": [
    "## Debugging\n",
    "- The process of tracking programming errors (called bugs) down and correcting them\n",
    "- Debugging is like detective work\n",
    "- Debugging is an experimental science\n",
    "    - If your hypothesis was correct, then you can predict the result of the modification, and you take a step closer to a working program\n",
    "    - If your hypothesis was wrong, you have to come up with a new one"
   ]
  },
  {
   "cell_type": "code",
   "execution_count": null,
   "id": "2460603d-21ba-4d9e-8c0a-40f83fc3738e",
   "metadata": {
    "@deathbeds/jupyterlab-fonts": {
     "styles": {
      "": {
       "body[data-jp-deck-mode='presenting'] &": {
        "z-index": "0",
        "zoom": "250%"
       }
      }
     }
    },
    "slideshow": {
     "slide_type": "subslide"
    }
   },
   "outputs": [],
   "source": [
    "# Syntax error - breaking the structural rules of a programming language\n",
    "print(\"What's wrong with this?\")"
   ]
  },
  {
   "cell_type": "code",
   "execution_count": null,
   "id": "89aa5aa3-6d52-4243-b1c3-82ed8368ce29",
   "metadata": {
    "@deathbeds/jupyterlab-fonts": {
     "styles": {
      "": {
       "body[data-jp-deck-mode='presenting'] &": {
        "zoom": "196%"
       }
      }
     }
    },
    "slideshow": {
     "slide_type": "subslide"
    }
   },
   "outputs": [],
   "source": [
    "# Runtime error - an error that does not appear until you run the program (also called exceptions)\n",
    "blackHole = 4*5/(5-(2+3))\n",
    "print(blackHole)"
   ]
  },
  {
   "cell_type": "code",
   "execution_count": null,
   "id": "adb490ab-6bef-4eb6-bdc0-813540538011",
   "metadata": {
    "@deathbeds/jupyterlab-fonts": {
     "styles": {
      "": {
       "body[data-jp-deck-mode='presenting'] &": {
        "zoom": "180%"
       }
      }
     }
    },
    "slideshow": {
     "slide_type": "subslide"
    }
   },
   "outputs": [],
   "source": [
    "# Semantic error - the program will not generate any error messages,\n",
    "# but will not do what you want (only what it was told to do)\n",
    "average = (4+1+7+3)/4\n",
    "print(average)"
   ]
  },
  {
   "cell_type": "markdown",
   "id": "9b2b294a-e495-4ca6-b6a0-ec9a0e2e4aa2",
   "metadata": {
    "@deathbeds/jupyterlab-fonts": {
     "styles": {
      "": {
       "body[data-jp-deck-mode='presenting'] &": {
        "zoom": "301%"
       }
      }
     }
    },
    "slideshow": {
     "slide_type": "slide"
    }
   },
   "source": [
    "## Avoiding (or Minimizing Debugging)\n",
    "- Start small\n",
    "- Keep it working\n",
    "- Use print statements to check values and find errors\n",
    "- Work backward (upward) from the error"
   ]
  }
 ],
 "metadata": {
  "kernelspec": {
   "display_name": "Python 3 (ipykernel)",
   "language": "python",
   "name": "python3"
  },
  "language_info": {
   "codemirror_mode": {
    "name": "ipython",
    "version": 3
   },
   "file_extension": ".py",
   "mimetype": "text/x-python",
   "name": "python",
   "nbconvert_exporter": "python",
   "pygments_lexer": "ipython3",
   "version": "3.12.5"
  }
 },
 "nbformat": 4,
 "nbformat_minor": 5
}
