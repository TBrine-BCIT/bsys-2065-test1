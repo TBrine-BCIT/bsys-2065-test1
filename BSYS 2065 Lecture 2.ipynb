{
 "cells": [
  {
   "cell_type": "markdown",
   "id": "fc9a9928-e006-4dea-a443-0e52009f8e0c",
   "metadata": {
    "slideshow": {
     "slide_type": "slide"
    }
   },
   "source": [
    "# BSYS 2065\n",
    "\n",
    "## Business Systems Programming\n",
    "\n",
    "### Lecture 2: Variables, Expressions and Statements"
   ]
  },
  {
   "cell_type": "markdown",
   "id": "3a2e5b54-97c0-426b-8862-5aa08e4ec9e9",
   "metadata": {
    "@deathbeds/jupyterlab-fonts": {
     "styles": {
      "": {
       "body[data-jp-deck-mode='presenting'] &": {
        "zoom": "205%"
       }
      }
     }
    },
    "slideshow": {
     "slide_type": "slide"
    }
   },
   "source": [
    "## Values\n",
    "- Value - one of the fundamental things (like a word or a number) that a program manipulates - also known as an object\n",
    "- Values are classified into different classes (data types) - e.g. 4 is an integer, \"Hello, World!\" is a string\n",
    "- We can use the type function to determine the class of a value\n",
    "- For now, focus on three classes (we'll learn others in future classes): str, int, float"
   ]
  },
  {
   "cell_type": "code",
   "execution_count": 73,
   "id": "d32bf29a-ebb7-4032-9909-ce534fc2b959",
   "metadata": {
    "@deathbeds/jupyterlab-fonts": {
     "styles": {
      "": {
       "body[data-jp-deck-mode='presenting'] &": {
        "zoom": "208%"
       }
      }
     }
    },
    "slideshow": {
     "slide_type": "subslide"
    }
   },
   "outputs": [
    {
     "name": "stdout",
     "output_type": "stream",
     "text": [
      "<class 'int'>\n"
     ]
    }
   ],
   "source": [
    "print(type(4))"
   ]
  },
  {
   "cell_type": "code",
   "execution_count": 74,
   "id": "b846f623-bb28-4606-be0e-19b0f84ebf5a",
   "metadata": {
    "@deathbeds/jupyterlab-fonts": {
     "styles": {
      "": {
       "body[data-jp-deck-mode='presenting'] &": {
        "zoom": "196%"
       }
      }
     }
    }
   },
   "outputs": [
    {
     "name": "stdout",
     "output_type": "stream",
     "text": [
      "<class 'str'>\n"
     ]
    }
   ],
   "source": [
    "print(type(\"Hello World!\"))"
   ]
  },
  {
   "cell_type": "code",
   "execution_count": 75,
   "id": "90cd57e5-93dd-471f-afe6-8c3f1da69161",
   "metadata": {
    "@deathbeds/jupyterlab-fonts": {
     "styles": {
      "": {
       "body[data-jp-deck-mode='presenting'] &": {
        "zoom": "231%"
       }
      }
     }
    }
   },
   "outputs": [
    {
     "name": "stdout",
     "output_type": "stream",
     "text": [
      "<class 'float'>\n"
     ]
    }
   ],
   "source": [
    "print(type(9.8))"
   ]
  },
  {
   "cell_type": "code",
   "execution_count": 76,
   "id": "633b784c-68ec-4eb4-977c-8018162c35e1",
   "metadata": {
    "@deathbeds/jupyterlab-fonts": {
     "styles": {
      "": {
       "body[data-jp-deck-mode='presenting'] &": {
        "zoom": "247%"
       }
      }
     }
    }
   },
   "outputs": [
    {
     "ename": "SyntaxError",
     "evalue": "invalid syntax. Perhaps you forgot a comma? (883368999.py, line 1)",
     "output_type": "error",
     "traceback": [
      "\u001b[1;36m  Cell \u001b[1;32mIn[76], line 1\u001b[1;36m\u001b[0m\n\u001b[1;33m    print(type(Hello World!))\u001b[0m\n\u001b[1;37m               ^\u001b[0m\n\u001b[1;31mSyntaxError\u001b[0m\u001b[1;31m:\u001b[0m invalid syntax. Perhaps you forgot a comma?\n"
     ]
    }
   ],
   "source": [
    "print(type(Hello World!))"
   ]
  },
  {
   "cell_type": "code",
   "execution_count": 77,
   "id": "017dd433-f4b8-4f1a-ad89-54c57c540fb0",
   "metadata": {
    "@deathbeds/jupyterlab-fonts": {
     "styles": {
      "": {
       "body[data-jp-deck-mode='presenting'] &": {
        "zoom": "240%"
       }
      }
     }
    }
   },
   "outputs": [
    {
     "name": "stdout",
     "output_type": "stream",
     "text": [
      "<class 'str'>\n"
     ]
    }
   ],
   "source": [
    "print(type(\"7\"))"
   ]
  },
  {
   "cell_type": "markdown",
   "id": "64635813-e07b-4b2b-8c41-f3aaa3e9cc99",
   "metadata": {
    "@deathbeds/jupyterlab-fonts": {
     "styles": {
      "": {
       "body[data-jp-deck-mode='presenting'] &": {
        "zoom": "212%"
       }
      }
     }
    },
    "slideshow": {
     "slide_type": "slide"
    }
   },
   "source": [
    "## Strings\n",
    "Strings in Python can be enclosed in single quotes ('), double quotes (\"), or three of each (''' or \"\"\")"
   ]
  },
  {
   "cell_type": "code",
   "execution_count": null,
   "id": "535a532b-9c44-48c5-aed1-0b1d1f5c1701",
   "metadata": {
    "@deathbeds/jupyterlab-fonts": {
     "styles": {
      "": {
       "body[data-jp-deck-mode='presenting'] &": {
        "zoom": "158%"
       }
      }
     }
    },
    "slideshow": {
     "slide_type": "subslide"
    }
   },
   "outputs": [],
   "source": [
    "print('This works')"
   ]
  },
  {
   "cell_type": "code",
   "execution_count": null,
   "id": "a0792555-8822-49dc-a374-274939579f6e",
   "metadata": {
    "@deathbeds/jupyterlab-fonts": {
     "styles": {
      "": {
       "body[data-jp-deck-mode='presenting'] &": {
        "zoom": "218%"
       }
      }
     }
    }
   },
   "outputs": [],
   "source": [
    "print(\"So does this\")"
   ]
  },
  {
   "cell_type": "code",
   "execution_count": 78,
   "id": "4f53a127-0db1-4bcb-9448-71cc9e7dd573",
   "metadata": {
    "@deathbeds/jupyterlab-fonts": {
     "styles": {
      "": {
       "body[data-jp-deck-mode='presenting'] &": {
        "zoom": "231%"
       }
      }
     }
    }
   },
   "outputs": [
    {
     "name": "stdout",
     "output_type": "stream",
     "text": [
      "\"But what if I quote someone?\" - Tanner\n"
     ]
    }
   ],
   "source": [
    "print('\"But what if I quote someone?\" - Tanner')"
   ]
  },
  {
   "cell_type": "code",
   "execution_count": 79,
   "id": "9882897f-7e8e-4aec-b816-4685a6dd3b13",
   "metadata": {
    "@deathbeds/jupyterlab-fonts": {
     "styles": {
      "": {
       "body[data-jp-deck-mode='presenting'] &": {
        "zoom": "266%"
       }
      }
     }
    }
   },
   "outputs": [
    {
     "name": "stdout",
     "output_type": "stream",
     "text": [
      "Or maybe I'm measuring something that's 2' long\n"
     ]
    }
   ],
   "source": [
    "print(\"Or maybe I'm measuring something that's 2' long\")"
   ]
  },
  {
   "cell_type": "code",
   "execution_count": 80,
   "id": "e6b75c39-4a21-4641-8560-6aacb2b8c82a",
   "metadata": {
    "@deathbeds/jupyterlab-fonts": {
     "styles": {
      "": {
       "body[data-jp-deck-mode='presenting'] &": {
        "zoom": "279%"
       }
      }
     }
    }
   },
   "outputs": [
    {
     "ename": "SyntaxError",
     "evalue": "unterminated string literal (detected at line 1) (3607105446.py, line 1)",
     "output_type": "error",
     "traceback": [
      "\u001b[1;36m  Cell \u001b[1;32mIn[80], line 1\u001b[1;36m\u001b[0m\n\u001b[1;33m    print('splitting\u001b[0m\n\u001b[1;37m          ^\u001b[0m\n\u001b[1;31mSyntaxError\u001b[0m\u001b[1;31m:\u001b[0m unterminated string literal (detected at line 1)\n"
     ]
    }
   ],
   "source": [
    "print('splitting\n",
    "      lines\n",
    "        in\n",
    "      just\n",
    "      one\n",
    "        quote\n",
    "    won't\n",
    "    work')"
   ]
  },
  {
   "cell_type": "code",
   "execution_count": 81,
   "id": "f8d83b51-842c-46d4-97a6-dc610e73d4c9",
   "metadata": {
    "@deathbeds/jupyterlab-fonts": {
     "styles": {
      "": {
       "body[data-jp-deck-mode='presenting'] &": {
        "zoom": "266%"
       }
      }
     }
    }
   },
   "outputs": [
    {
     "name": "stdout",
     "output_type": "stream",
     "text": [
      "But\n",
      "if\n",
      "I\n",
      "use three\n",
      "quotes\n",
      "it\n",
      "will\n"
     ]
    }
   ],
   "source": [
    "print('''But\n",
    "if\n",
    "I\n",
    "use three\n",
    "quotes\n",
    "it\n",
    "will''')"
   ]
  },
  {
   "attachments": {},
   "cell_type": "markdown",
   "id": "8720b5df-ec73-426d-8d55-bba7a42ecc7f",
   "metadata": {
    "@deathbeds/jupyterlab-fonts": {
     "styles": {
      "": {
       "body[data-jp-deck-mode='presenting'] &": {
        "zoom": "186%"
       }
      }
     }
    },
    "slideshow": {
     "slide_type": "slide"
    }
   },
   "source": [
    "## Type Conversion Functions\n",
    "- The functions int, float and str will convert their arguments into types int, float and str respectively\n",
    "- For floating point numbers, int discards the decimal portion of the number (truncation towards zero) – e.g. 3.99 becomes 3"
   ]
  },
  {
   "cell_type": "code",
   "execution_count": 82,
   "id": "4f00508a-a1d0-464e-9b07-c0029f4a0347",
   "metadata": {
    "@deathbeds/jupyterlab-fonts": {
     "styles": {
      "": {
       "body[data-jp-deck-mode='presenting'] &": {
        "zoom": "199%"
       }
      }
     }
    },
    "slideshow": {
     "slide_type": "subslide"
    }
   },
   "outputs": [
    {
     "name": "stdout",
     "output_type": "stream",
     "text": [
      "<class 'str'>\n"
     ]
    }
   ],
   "source": [
    "print(type(str(4)))"
   ]
  },
  {
   "cell_type": "code",
   "execution_count": 83,
   "id": "8bd1f798-8a1a-419c-af2c-a76ab6b304aa",
   "metadata": {
    "@deathbeds/jupyterlab-fonts": {
     "styles": {
      "": {
       "body[data-jp-deck-mode='presenting'] &": {
        "zoom": "269%"
       }
      }
     }
    }
   },
   "outputs": [
    {
     "name": "stdout",
     "output_type": "stream",
     "text": [
      "3\n"
     ]
    }
   ],
   "source": [
    "print(int(3.14159))"
   ]
  },
  {
   "cell_type": "code",
   "execution_count": 84,
   "id": "f9012b90-4869-42e1-b916-fff97a31219e",
   "metadata": {
    "@deathbeds/jupyterlab-fonts": {
     "styles": {
      "": {
       "body[data-jp-deck-mode='presenting'] &": {
        "zoom": "231%"
       }
      }
     }
    }
   },
   "outputs": [
    {
     "name": "stdout",
     "output_type": "stream",
     "text": [
      "4.0\n"
     ]
    }
   ],
   "source": [
    "print(float(\"4\"))"
   ]
  },
  {
   "attachments": {},
   "cell_type": "markdown",
   "id": "1a3d3c42-3b7d-4a72-a8f0-f9d75c15d381",
   "metadata": {
    "@deathbeds/jupyterlab-fonts": {
     "styles": {
      "": {
       "body[data-jp-deck-mode='presenting'] &": {
        "zoom": "205%"
       }
      }
     }
    },
    "slideshow": {
     "slide_type": "slide"
    }
   },
   "source": [
    "## Variables\n",
    "- A variable is a name that refers to a value\n",
    "- Assignment statements create new variables and also give them values to refer to:\n",
    "    - message = \"What's up, Doc?\"\n",
    "    - n = 17\n",
    "    - pi = 3.14159\n",
    "- The assignment token = should not be confused with equality ==\n",
    "- Variables are variable – they change"
   ]
  },
  {
   "attachments": {
    "5f9a773a-880c-4b1a-b8fa-f1ff1ba0495d.png": {
     "image/png": "[encoded data removed]"
    }
   },
   "cell_type": "markdown",
   "id": "0ee65502-b9a3-4a60-9519-cb01f0930e37",
   "metadata": {
    "@deathbeds/jupyterlab-fonts": {
     "styles": {
      "": {
       "body[data-jp-deck-mode='presenting'] &": {
        "zoom": "173%"
       }
      }
     }
    },
    "slideshow": {
     "slide_type": "slide"
    }
   },
   "source": [
    "## Reference Diagram\n",
    "<img src=\"attachment:5f9a773a-880c-4b1a-b8fa-f1ff1ba0495d.png\" alt=\"Reference Diagram\" width=\"200\"/>"
   ]
  },
  {
   "attachments": {},
   "cell_type": "markdown",
   "id": "a4739d62-c216-459a-8f28-c8a3e79c178f",
   "metadata": {
    "@deathbeds/jupyterlab-fonts": {
     "styles": {
      "": {
       "body[data-jp-deck-mode='presenting'] &": {
        "zoom": "186%"
       }
      }
     }
    },
    "slideshow": {
     "slide_type": "slide"
    }
   },
   "source": [
    "## Variable Names and Keywords\n",
    "- Variable names can contain both letters and digits, but they have to begin with a letter or an underscore (use a letter)\n",
    "- Variable names can never contain spaces\n",
    "- Python keywords cannot be used as variable names (e.g. if, class, etc. – see list in text)\n",
    "- Variables are usually lower case\n",
    "- inputValue input_value\n",
    "- ifTrue"
   ]
  },
  {
   "attachments": {},
   "cell_type": "markdown",
   "id": "00cbe0fc-38d4-4363-8d65-cc4e2137cf7d",
   "metadata": {
    "@deathbeds/jupyterlab-fonts": {
     "styles": {
      "": {
       "body[data-jp-deck-mode='presenting'] &": {
        "zoom": "180%"
       }
      }
     }
    },
    "slideshow": {
     "slide_type": "slide"
    }
   },
   "source": [
    "## Statements and Expressions\n",
    "- A statement is an instruction that the Python interpreter can execute\n",
    "- An expression is a combination of values, variables, operators, and calls to functions that evaluates to a value\n",
    "- Expressions are statements but not all statements are expressions (e.g. break)\n",
    "- Evaluation of an expression produces a value\n",
    "    - 8*5\n",
    "    - (5 + y)/3\n"
   ]
  },
  {
   "attachments": {},
   "cell_type": "markdown",
   "id": "f32a236c-f9fc-4254-9ffa-c431c4b2451d",
   "metadata": {
    "@deathbeds/jupyterlab-fonts": {
     "styles": {
      "": {
       "body[data-jp-deck-mode='presenting'] &": {
        "zoom": "205%"
       }
      }
     }
    },
    "slideshow": {
     "slide_type": "slide"
    }
   },
   "source": [
    "## Operators and Operands\n",
    "- Operators are special tokens that represent computations like addition, multiplication and division\n",
    "- The values the operator works on are called operands\n",
    "- The tokens +, -, and the use of parenthesis for grouping, mean in Python what they mean in mathematics\n",
    "- The asterisk * is the token for multiplication, and ** is the token for exponentiation\n",
    "- Division is denoted by the operator token / and integer division uses the token // (rounds its result down to the next smallest integer)"
   ]
  },
  {
   "attachments": {},
   "cell_type": "markdown",
   "id": "aa1abb64-ebb6-48c3-a030-ea67c5395046",
   "metadata": {
    "@deathbeds/jupyterlab-fonts": {
     "styles": {
      "": {
       "body[data-jp-deck-mode='presenting'] &": {
        "zoom": "164%"
       }
      }
     }
    },
    "slideshow": {
     "slide_type": "slide"
    }
   },
   "source": [
    "## Modulus Operator\n",
    "- Also called the remainder operator or integer remainder operator\n",
    "- Works on integers and yields the remainder when the first operand is divided by the second\n",
    "- In Python the modulus operator is %\n",
    "- Can be used to determine even and odd numbers (modulus of n%2 is 0)"
   ]
  },
  {
   "cell_type": "code",
   "execution_count": 71,
   "id": "018ee281-48f0-4704-8221-2be31a36086e",
   "metadata": {
    "@deathbeds/jupyterlab-fonts": {
     "styles": {
      "": {
       "body[data-jp-deck-mode='presenting'] &": {
        "z-index": "5",
        "zoom": "215%"
       }
      }
     }
    },
    "slideshow": {
     "slide_type": "subslide"
    }
   },
   "outputs": [
    {
     "name": "stdout",
     "output_type": "stream",
     "text": [
      "4\n"
     ]
    }
   ],
   "source": [
    "print(2+2)"
   ]
  },
  {
   "cell_type": "code",
   "execution_count": 85,
   "id": "b9c5c32c-56db-40bb-a098-0d2529042b7c",
   "metadata": {
    "@deathbeds/jupyterlab-fonts": {
     "styles": {
      "": {
       "body[data-jp-deck-mode='presenting'] &": {
        "zoom": "189%"
       }
      }
     }
    },
    "slideshow": {
     "slide_type": null
    }
   },
   "outputs": [
    {
     "name": "stdout",
     "output_type": "stream",
     "text": [
      "5\n"
     ]
    }
   ],
   "source": [
    "print(7-2)"
   ]
  },
  {
   "cell_type": "code",
   "execution_count": 86,
   "id": "7476be14-08ad-46b7-bae0-8814178be81c",
   "metadata": {
    "@deathbeds/jupyterlab-fonts": {
     "styles": {
      "": {
       "body[data-jp-deck-mode='presenting'] &": {
        "zoom": "180%"
       }
      }
     }
    }
   },
   "outputs": [
    {
     "name": "stdout",
     "output_type": "stream",
     "text": [
      "12\n"
     ]
    }
   ],
   "source": [
    "print(3*4)"
   ]
  },
  {
   "cell_type": "code",
   "execution_count": 87,
   "id": "e3ac63e8-4c2e-41d0-9d0c-d77b89f776ad",
   "metadata": {
    "@deathbeds/jupyterlab-fonts": {
     "styles": {
      "": {
       "body[data-jp-deck-mode='presenting'] &": {
        "zoom": "158%"
       }
      }
     }
    }
   },
   "outputs": [
    {
     "name": "stdout",
     "output_type": "stream",
     "text": [
      "3.3333333333333335\n"
     ]
    }
   ],
   "source": [
    "print(10/3)"
   ]
  },
  {
   "cell_type": "code",
   "execution_count": 88,
   "id": "ad7e2d2f-e6d6-4a22-913c-de5dd9bb90bf",
   "metadata": {
    "@deathbeds/jupyterlab-fonts": {
     "styles": {
      "": {
       "body[data-jp-deck-mode='presenting'] &": {
        "zoom": "218%"
       }
      }
     }
    }
   },
   "outputs": [
    {
     "name": "stdout",
     "output_type": "stream",
     "text": [
      "3\n"
     ]
    }
   ],
   "source": [
    "print(10//3)"
   ]
  },
  {
   "cell_type": "code",
   "execution_count": 89,
   "id": "0e6a71f7-80a5-4045-ae1b-8d8742653b39",
   "metadata": {
    "@deathbeds/jupyterlab-fonts": {
     "styles": {
      "": {
       "body[data-jp-deck-mode='presenting'] &": {
        "zoom": "158%"
       }
      }
     }
    }
   },
   "outputs": [
    {
     "name": "stdout",
     "output_type": "stream",
     "text": [
      "1\n"
     ]
    }
   ],
   "source": [
    "print(10%3)"
   ]
  },
  {
   "cell_type": "code",
   "execution_count": null,
   "id": "ba3ebde4-0e2b-4d36-b095-9fae57554a0a",
   "metadata": {
    "@deathbeds/jupyterlab-fonts": {
     "styles": {
      "": {
       "body[data-jp-deck-mode='presenting'] &": {
        "zoom": "183%"
       }
      }
     }
    }
   },
   "outputs": [],
   "source": [
    "print(10%2)"
   ]
  },
  {
   "cell_type": "code",
   "execution_count": 90,
   "id": "4d57fba1-7764-4ea9-bbd9-665248035836",
   "metadata": {
    "@deathbeds/jupyterlab-fonts": {
     "styles": {
      "": {
       "body[data-jp-deck-mode='presenting'] &": {
        "zoom": "240%"
       }
      }
     }
    }
   },
   "outputs": [
    {
     "name": "stdout",
     "output_type": "stream",
     "text": [
      "-4\n"
     ]
    }
   ],
   "source": [
    "print(-10//3)"
   ]
  },
  {
   "cell_type": "markdown",
   "id": "72642764-4626-47f5-bb84-9322b311627c",
   "metadata": {
    "@deathbeds/jupyterlab-fonts": {
     "styles": {
      "": {
       "body[data-jp-deck-mode='presenting'] &": {
        "zoom": "202%"
       }
      }
     }
    },
    "slideshow": {
     "slide_type": "slide"
    }
   },
   "source": [
    "## Input\n",
    "- Input is a built-in function in Python to get input from the user"
   ]
  },
  {
   "cell_type": "code",
   "execution_count": 96,
   "id": "91b8f8e3-5f93-4a21-886d-fc3d5086924f",
   "metadata": {
    "@deathbeds/jupyterlab-fonts": {
     "styles": {
      "": {
       "body[data-jp-deck-mode='presenting'] &": {
        "zoom": "196%"
       }
      }
     }
    }
   },
   "outputs": [
    {
     "name": "stdin",
     "output_type": "stream",
     "text": [
      " Tanner\n"
     ]
    },
    {
     "name": "stdout",
     "output_type": "stream",
     "text": [
      "Hello, Tanner\n"
     ]
    }
   ],
   "source": [
    "inputName = input(\"Please enter your name \")\n",
    "print(\"Hello,\",inputName)"
   ]
  },
  {
   "cell_type": "markdown",
   "id": "b9e122da-9b28-4a83-a476-d8c02dc9dc66",
   "metadata": {
    "@deathbeds/jupyterlab-fonts": {
     "styles": {
      "": {
       "body[data-jp-deck-mode='presenting'] &": {
        "zoom": "158%"
       }
      }
     }
    }
   },
   "source": [
    "- The input function allows the user to provide a prompt **string** and returns a **string** value.\n",
    "- The program must convert this string to the appropriate type, e.g. int"
   ]
  },
  {
   "cell_type": "code",
   "execution_count": 99,
   "id": "bcadbe21-a32e-4ec8-8acb-e28a5ac4bcbc",
   "metadata": {
    "@deathbeds/jupyterlab-fonts": {
     "styles": {
      "": {
       "body[data-jp-deck-mode='presenting'] &": {
        "zoom": "154%"
       }
      }
     }
    }
   },
   "outputs": [
    {
     "name": "stdin",
     "output_type": "stream",
     "text": [
      "Please enter a number you'd like to multiply by itself:  5\n"
     ]
    },
    {
     "name": "stdout",
     "output_type": "stream",
     "text": [
      "25\n"
     ]
    }
   ],
   "source": [
    "inputString = input(\"Please enter a number you'd like to multiply by itself: \")\n",
    "inputInt = int(inputString)\n",
    "square = inputInt**2\n",
    "print(square)"
   ]
  },
  {
   "attachments": {},
   "cell_type": "markdown",
   "id": "13eaa4bb-172a-47f4-b1c0-6b1525506720",
   "metadata": {
    "@deathbeds/jupyterlab-fonts": {
     "styles": {
      "": {
       "body[data-jp-deck-mode='presenting'] &": {
        "z-index": "5",
        "zoom": "170%"
       }
      }
     }
    },
    "slideshow": {
     "slide_type": "slide"
    }
   },
   "source": [
    "## Order of Operations\n",
    "- The order of evaluation depends on the rules of precedence (in the following order):\n",
    "    - Parentheses have the highest precedence\n",
    "    - Exponentiation has the next highest precedence (**right to left**)\n",
    "    - Multiplication and both division operators have the same precedence\n",
    "    - Addition and subtraction have the same precedence\n",
    "- Operators with the same precedence are evaluated from left-to-right (**except exponentiation**)\n",
    "- Use parentheses to force exactly the order you want when exponentiation is involved"
   ]
  },
  {
   "cell_type": "raw",
   "id": "79fc55d9-0f66-4f84-b9f9-d4e07186f847",
   "metadata": {
    "@deathbeds/jupyterlab-fonts": {
     "styles": {
      "": {
       "body[data-jp-deck-mode='presenting'] &": {
        "zoom": "301%"
       }
      }
     }
    },
    "slideshow": {
     "slide_type": "subslide"
    }
   },
   "source": [
    "n = 3**2**2-18//4*(12%10+18)"
   ]
  },
  {
   "cell_type": "raw",
   "id": "68189299-6ae6-43a8-945e-cec05058c0e0",
   "metadata": {
    "@deathbeds/jupyterlab-fonts": {
     "styles": {
      "": {
       "body[data-jp-deck-mode='presenting'] &": {
        "zoom": "279%"
       }
      }
     }
    },
    "slideshow": {
     "slide_type": "subslide"
    }
   },
   "source": [
    "n = 3**2**2-18//4*(2+18)"
   ]
  },
  {
   "cell_type": "raw",
   "id": "115f1217-e9e4-442f-9358-ab1918238c7a",
   "metadata": {
    "@deathbeds/jupyterlab-fonts": {
     "styles": {
      "": {
       "body[data-jp-deck-mode='presenting'] &": {
        "zoom": "333%"
       }
      }
     }
    }
   },
   "source": [
    "n = 3**2**2-18//4*(20)"
   ]
  },
  {
   "cell_type": "raw",
   "id": "7c5fd5e2-eb64-407a-9e72-802ad7127785",
   "metadata": {
    "@deathbeds/jupyterlab-fonts": {
     "styles": {
      "": {
       "body[data-jp-deck-mode='presenting'] &": {
        "zoom": "374%"
       }
      }
     }
    }
   },
   "source": [
    "n = 3**4-18//4*(20)"
   ]
  },
  {
   "cell_type": "raw",
   "id": "19e2e850-5de5-401c-b6a1-5f7db99b1c06",
   "metadata": {
    "@deathbeds/jupyterlab-fonts": {
     "styles": {
      "": {
       "body[data-jp-deck-mode='presenting'] &": {
        "zoom": "250%"
       }
      }
     }
    }
   },
   "source": [
    "n = 81-18//4*(20)"
   ]
  },
  {
   "cell_type": "raw",
   "id": "8694bd95-da3f-4bf2-beb7-c8cc97f1f344",
   "metadata": {
    "@deathbeds/jupyterlab-fonts": {
     "styles": {
      "": {
       "body[data-jp-deck-mode='presenting'] &": {
        "zoom": "279%"
       }
      }
     }
    }
   },
   "source": [
    "n = 81-4*(20)"
   ]
  },
  {
   "cell_type": "raw",
   "id": "99d3a276-36eb-4d95-92f7-00a4e0fc3879",
   "metadata": {
    "@deathbeds/jupyterlab-fonts": {
     "styles": {
      "": {
       "body[data-jp-deck-mode='presenting'] &": {
        "zoom": "247%"
       }
      }
     }
    }
   },
   "source": [
    "n = 81-80"
   ]
  },
  {
   "cell_type": "raw",
   "id": "ff15db06-901c-41ab-b52a-4f70d3b5599f",
   "metadata": {
    "@deathbeds/jupyterlab-fonts": {
     "styles": {
      "": {
       "body[data-jp-deck-mode='presenting'] &": {
        "zoom": "247%"
       }
      }
     }
    }
   },
   "source": [
    "n = 1"
   ]
  },
  {
   "cell_type": "code",
   "execution_count": 100,
   "id": "a2f3b42e-2e02-4739-bf31-6b18df57304a",
   "metadata": {
    "@deathbeds/jupyterlab-fonts": {
     "styles": {
      "": {
       "body[data-jp-deck-mode='presenting'] &": {
        "zoom": "240%"
       }
      }
     }
    }
   },
   "outputs": [
    {
     "name": "stdout",
     "output_type": "stream",
     "text": [
      "1\n"
     ]
    }
   ],
   "source": [
    "n = 3**2**2-18//4*(12%10+18)\n",
    "print(n)"
   ]
  },
  {
   "cell_type": "markdown",
   "id": "8906c51e-ac5c-4eea-97dc-aae57ec40e88",
   "metadata": {
    "@deathbeds/jupyterlab-fonts": {
     "styles": {
      "": {
       "body[data-jp-deck-mode='presenting'] &": {
        "zoom": "282%"
       }
      }
     }
    },
    "slideshow": {
     "slide_type": "slide"
    }
   },
   "source": [
    "## Reassignment\n",
    "A new assignment makes an existing variable refer to a new value"
   ]
  },
  {
   "cell_type": "code",
   "execution_count": 101,
   "id": "19dac987-e8a4-43b3-a9d1-4b0c0b83725e",
   "metadata": {
    "@deathbeds/jupyterlab-fonts": {
     "styles": {
      "": {
       "body[data-jp-deck-mode='presenting'] &": {
        "zoom": "173%"
       }
      }
     }
    }
   },
   "outputs": [
    {
     "name": "stdout",
     "output_type": "stream",
     "text": [
      "5 5\n",
      "7 5\n"
     ]
    }
   ],
   "source": [
    "a = 5\n",
    "b = a #after executing this line, a and b are now equal a = 5, b = 5\n",
    "print(a,b)\n",
    "a = 7 #after executing this line, a and b are no longer equal a = 7, b = 5\n",
    "print(a,b)"
   ]
  },
  {
   "cell_type": "markdown",
   "id": "df3c3995-ea68-4a93-afaf-98e1291202e2",
   "metadata": {
    "@deathbeds/jupyterlab-fonts": {
     "styles": {
      "": {
       "body[data-jp-deck-mode='presenting'] &": {
        "zoom": "154%"
       }
      }
     }
    },
    "slideshow": {
     "slide_type": "slide"
    }
   },
   "source": [
    "## Updating Variables\n",
    "An update is where the new value of the variable depends on the old value"
   ]
  },
  {
   "cell_type": "code",
   "execution_count": 102,
   "id": "88ae070d-7592-4852-ba15-78628e75d0db",
   "metadata": {
    "@deathbeds/jupyterlab-fonts": {
     "styles": {
      "": {
       "body[data-jp-deck-mode='presenting'] &": {
        "zoom": "208%"
       }
      }
     }
    }
   },
   "outputs": [
    {
     "name": "stdout",
     "output_type": "stream",
     "text": [
      "3\n"
     ]
    }
   ],
   "source": [
    "x = x + 1\n",
    "print(x)"
   ]
  },
  {
   "cell_type": "markdown",
   "id": "060b66b5-c63d-4dfc-a628-1ff3155fcd09",
   "metadata": {
    "@deathbeds/jupyterlab-fonts": {
     "styles": {
      "": {
       "body[data-jp-deck-mode='presenting'] &": {
        "zoom": "186%"
       }
      }
     }
    }
   },
   "source": [
    "Before you can update a variable, you have to **initialize** it"
   ]
  },
  {
   "cell_type": "code",
   "execution_count": 103,
   "id": "cca4e2a3-2826-47b3-84d3-6516f0995c21",
   "metadata": {
    "@deathbeds/jupyterlab-fonts": {
     "styles": {
      "": {
       "body[data-jp-deck-mode='presenting'] &": {
        "zoom": "237%"
       }
      }
     }
    }
   },
   "outputs": [
    {
     "name": "stdout",
     "output_type": "stream",
     "text": [
      "2\n"
     ]
    }
   ],
   "source": [
    "x = 1\n",
    "x = x + 1\n",
    "print(x)"
   ]
  }
 ],
 "metadata": {
  "kernelspec": {
   "display_name": "Python 3 (ipykernel)",
   "language": "python",
   "name": "python3"
  },
  "language_info": {
   "codemirror_mode": {
    "name": "ipython",
    "version": 3
   },
   "file_extension": ".py",
   "mimetype": "text/x-python",
   "name": "python",
   "nbconvert_exporter": "python",
   "pygments_lexer": "ipython3",
   "version": "3.12.5"
  }
 },
 "nbformat": 4,
 "nbformat_minor": 5
}
