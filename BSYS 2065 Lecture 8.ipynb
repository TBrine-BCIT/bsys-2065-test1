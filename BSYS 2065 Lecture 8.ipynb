{
 "cells": [
  {
   "cell_type": "markdown",
   "id": "22593266-eb7a-48e0-ba86-f73050c371ab",
   "metadata": {
    "@deathbeds/jupyterlab-fonts": {
     "styles": {
      "": {
       "body[data-jp-deck-mode='presenting'] &": {
        "zoom": "152%"
       }
      }
     }
    }
   },
   "source": [
    "# BSYS 2065\n",
    "## Business Systems Programming\n",
    "### Lecture 8 - Lists"
   ]
  },
  {
   "cell_type": "markdown",
   "id": "c02deebe-d436-48d3-be63-48ebfee89ec3",
   "metadata": {
    "@deathbeds/jupyterlab-fonts": {
     "styles": {
      "": {
       "body[data-jp-deck-mode='presenting'] &": {
        "zoom": "189%"
       }
      }
     }
    },
    "slideshow": {
     "slide_type": "slide"
    }
   },
   "source": [
    "## Program Survey!\n",
    "https://www.surveymonkey.ca/r/Q37ZXLM"
   ]
  },
  {
   "cell_type": "markdown",
   "id": "780e13e1-36df-4b8f-b429-bb4ab51777ed",
   "metadata": {
    "@deathbeds/jupyterlab-fonts": {
     "styles": {
      "": {
       "body[data-jp-deck-mode='presenting'] &": {
        "zoom": "161%"
       }
      }
     }
    },
    "slideshow": {
     "slide_type": "slide"
    }
   },
   "source": [
    "## Lists\n",
    "- List - a sequential collection of Python data values where each value is identified by an index\n",
    "- Elements - the values that make up a list \n",
    "- Elements can have any type\n",
    "- For a list the items can be different types\n",
    "    - [10, 20, 30, 40]\n",
    "    - [\"spam\", \"bungee\", \"swallow\"]\n",
    "- Nested - a list within another list (the inner list is called a sublist)\n",
    "    - [\"hello\", 2.0, 5, [10, 20]]\n",
    "- Empty list - denoted []"
   ]
  },
  {
   "cell_type": "code",
   "execution_count": 54,
   "id": "74444e64-e784-4789-87a1-cec5dd1d2124",
   "metadata": {
    "@deathbeds/jupyterlab-fonts": {
     "styles": {
      "": {
       "body[data-jp-deck-mode='presenting'] &": {
        "zoom": "183%"
       }
      }
     }
    },
    "slideshow": {
     "slide_type": "subslide"
    }
   },
   "outputs": [
    {
     "name": "stdout",
     "output_type": "stream",
     "text": [
      "[17, 123]\n",
      "['hello', 2.0, 10, [10, 20]]\n",
      "[[17, 123], ['iteration', 'selection', 'control']]\n"
     ]
    }
   ],
   "source": [
    "## Lists (con’t)\n",
    "vocabulary = [\"iteration\", \"selection\", \"control\"]\n",
    "numbers = [17, 123]\n",
    "empty = []\n",
    "mixedlist = [\"hello\", 2.0, 5*2, [10, 20]]\n",
    "\n",
    "print(numbers)\n",
    "print(mixedlist)\n",
    "newlist = [ numbers, vocabulary ]\n",
    "print(newlist)"
   ]
  },
  {
   "cell_type": "markdown",
   "id": "418245f4-9675-40a8-a1db-549352c02a82",
   "metadata": {
    "@deathbeds/jupyterlab-fonts": {
     "styles": {
      "": {
       "body[data-jp-deck-mode='presenting'] &": {
        "zoom": "167%"
       }
      }
     }
    },
    "slideshow": {
     "slide_type": "slide"
    }
   },
   "source": [
    "## List Length\n",
    "- The function len returns the length of a list (the number of items in the list)\n",
    "- Sublists are considered to be a single item when counting the length of a list"
   ]
  },
  {
   "cell_type": "code",
   "execution_count": 55,
   "id": "04ca27b9-186b-4cfd-a29b-4fe47924d1a0",
   "metadata": {
    "@deathbeds/jupyterlab-fonts": {
     "styles": {
      "": {
       "body[data-jp-deck-mode='presenting'] &": {
        "zoom": "151%"
       }
      }
     }
    }
   },
   "outputs": [
    {
     "name": "stdout",
     "output_type": "stream",
     "text": [
      "4\n",
      "4\n"
     ]
    }
   ],
   "source": [
    "alist =  [\"hello\", 2.0, 5, [10, 20]]\n",
    "print(len(alist))\n",
    "print(len(['spam!', 1, ['Brie', 'Roquefort', 'Pol le Veq'], [1, 2, 3]]))"
   ]
  },
  {
   "cell_type": "markdown",
   "id": "7ddefe8e-5a04-424e-8688-e7c76686947d",
   "metadata": {
    "@deathbeds/jupyterlab-fonts": {
     "styles": {
      "": {
       "body[data-jp-deck-mode='presenting'] &": {
        "zoom": "145%"
       }
      }
     }
    },
    "slideshow": {
     "slide_type": "slide"
    }
   },
   "source": [
    "## Accessing Elements\n",
    "- Use the index operator [] \n",
    "- Indices start at 0\n",
    "- Negative index values will locate items from the right"
   ]
  },
  {
   "cell_type": "code",
   "execution_count": 57,
   "id": "f93035ca-17fc-4ab9-8a16-aa284fd4bd74",
   "metadata": {
    "@deathbeds/jupyterlab-fonts": {
     "styles": {
      "": {
       "body[data-jp-deck-mode='presenting'] &": {
        "zoom": "151%"
       }
      }
     }
    }
   },
   "outputs": [
    {
     "name": "stdout",
     "output_type": "stream",
     "text": [
      "87\n",
      "123\n",
      "8398\n",
      "44\n",
      "dog\n"
     ]
    }
   ],
   "source": [
    "### numbers = [17, 123, 87, 34, 66, 8398, 44]\n",
    "print(numbers[2])\n",
    "print(numbers[9 - 8])\n",
    "print(numbers[-2])\n",
    "print(numbers[len(numbers) - 1])\n",
    "\n",
    "alist = [3, 67, \"cat\", [56, 57, \"dog\"], [ ], 3.14, False]\n",
    "print(alist[3][2])"
   ]
  },
  {
   "cell_type": "markdown",
   "id": "20b007cf-e93c-4c21-ae81-3590c1ac7f7d",
   "metadata": {
    "@deathbeds/jupyterlab-fonts": {
     "styles": {
      "": {
       "body[data-jp-deck-mode='presenting'] &": {
        "zoom": "154%"
       }
      }
     }
    },
    "slideshow": {
     "slide_type": "slide"
    }
   },
   "source": [
    "## List Membership\n",
    "- in and not in are boolean operators that test (top level) membership in a sequence "
   ]
  },
  {
   "cell_type": "code",
   "execution_count": 58,
   "id": "7d803767-8a6a-4126-8c9d-5d0b0e7447d6",
   "metadata": {
    "@deathbeds/jupyterlab-fonts": {
     "styles": {
      "": {
       "body[data-jp-deck-mode='presenting'] &": {
        "zoom": "158%"
       }
      }
     }
    }
   },
   "outputs": [
    {
     "name": "stdout",
     "output_type": "stream",
     "text": [
      "True\n",
      "False\n",
      "False\n",
      "True\n"
     ]
    }
   ],
   "source": [
    "fruit = [\"apple\", \"orange\", \"banana\", \"cherry\"]\n",
    "\n",
    "print(\"apple\" in fruit)\n",
    "print(\"pear\" in fruit)\n",
    "\n",
    "alist = [3, 67, \"cat\", [56, 57, \"dog\"], [ ], 3.14, False]\n",
    "print(57 in alist)\n",
    "print(57 in alist[3])"
   ]
  },
  {
   "cell_type": "markdown",
   "id": "bf3db83f-9025-43b7-9e6a-302c55c31593",
   "metadata": {
    "@deathbeds/jupyterlab-fonts": {
     "styles": {
      "": {
       "body[data-jp-deck-mode='presenting'] &": {
        "zoom": "173%"
       }
      }
     }
    },
    "slideshow": {
     "slide_type": "slide"
    }
   },
   "source": [
    "## Concatenation and Repetition in Lists\n",
    "- \\+ and * operators create new lists from the elements of the operand lists"
   ]
  },
  {
   "cell_type": "code",
   "execution_count": 59,
   "id": "76c8b88a-c162-4109-a981-aafcbf9bd4fd",
   "metadata": {
    "@deathbeds/jupyterlab-fonts": {
     "styles": {
      "": {
       "body[data-jp-deck-mode='presenting'] &": {
        "zoom": "151%"
       }
      }
     }
    }
   },
   "outputs": [
    {
     "name": "stdout",
     "output_type": "stream",
     "text": [
      "[1, 2, 3, 4]\n",
      "['apple', 'orange', 'banana', 'cherry', 6, 7, 8, 9]\n",
      "[0, 0, 0, 0]\n",
      "[1, 2, ['hello', 'goodbye'], 1, 2, ['hello', 'goodbye']]\n"
     ]
    }
   ],
   "source": [
    "fruit = [\"apple\", \"orange\", \"banana\", \"cherry\"]\n",
    "print([1, 2] + [3, 4])\n",
    "print(fruit + [6, 7, 8, 9])\n",
    "\n",
    "print([0] * 4)\n",
    "print([1, 2, [\"hello\", \"goodbye\"]] * 2)"
   ]
  },
  {
   "cell_type": "markdown",
   "id": "22f9333b-6119-4413-98db-a0378a954bb9",
   "metadata": {
    "@deathbeds/jupyterlab-fonts": {
     "styles": {
      "": {
       "body[data-jp-deck-mode='presenting'] &": {
        "zoom": "167%"
       }
      }
     }
    }
   },
   "source": [
    "**id** function – returns an object’s (e.g. a list) unique identification tag"
   ]
  },
  {
   "cell_type": "code",
   "execution_count": 60,
   "id": "b6025d5a-215c-488d-970e-7389c954e2fd",
   "metadata": {
    "@deathbeds/jupyterlab-fonts": {
     "styles": {
      "": {
       "body[data-jp-deck-mode='presenting'] &": {
        "zoom": "167%"
       }
      }
     }
    }
   },
   "outputs": [
    {
     "name": "stdout",
     "output_type": "stream",
     "text": [
      "2944315320128\n"
     ]
    }
   ],
   "source": [
    "alist = [4, 5, 6]\n",
    "print(id(alist))"
   ]
  },
  {
   "cell_type": "code",
   "execution_count": 61,
   "id": "709d7ccc-93f8-474f-a635-1a714b66e490",
   "metadata": {
    "@deathbeds/jupyterlab-fonts": {
     "styles": {
      "": {
       "body[data-jp-deck-mode='presenting'] &": {
        "zoom": "170%"
       }
      }
     }
    },
    "slideshow": {
     "slide_type": "slide"
    }
   },
   "outputs": [
    {
     "name": "stdout",
     "output_type": "stream",
     "text": [
      "['b', 'c']\n",
      "['a', 'b', 'c', 'd']\n",
      "['d', 'e', 'f']\n",
      "['a', 'b', 'c', 'd', 'e', 'f']\n"
     ]
    }
   ],
   "source": [
    "## List Slices\n",
    "a_list = ['a', 'b', 'c', 'd', 'e', 'f']\n",
    "print(a_list[1:3])\n",
    "print(a_list[:4])\n",
    "print(a_list[3:])\n",
    "print(a_list[:])"
   ]
  },
  {
   "cell_type": "markdown",
   "id": "620c92d2-ccd2-47ca-be9d-5fde15c46540",
   "metadata": {
    "@deathbeds/jupyterlab-fonts": {
     "styles": {
      "": {
       "body[data-jp-deck-mode='presenting'] &": {
        "zoom": "170%"
       }
      }
     }
    },
    "slideshow": {
     "slide_type": "slide"
    }
   },
   "source": [
    "## Lists are Mutable\n",
    "- Mutable – a list item can be changed using an indexing operator []\n",
    "- This is a major difference between strings and lists"
   ]
  },
  {
   "cell_type": "code",
   "execution_count": 62,
   "id": "56adae2c-4b65-4b10-a551-a20c1c63ce8a",
   "metadata": {
    "@deathbeds/jupyterlab-fonts": {
     "styles": {
      "": {
       "body[data-jp-deck-mode='presenting'] &": {
        "zoom": "173%"
       }
      }
     }
    }
   },
   "outputs": [
    {
     "name": "stdout",
     "output_type": "stream",
     "text": [
      "['banana', 'apple', 'cherry']\n",
      "['pear', 'apple', 'orange']\n"
     ]
    }
   ],
   "source": [
    "fruit = [\"banana\", \"apple\", \"cherry\"]\n",
    "print(fruit)\n",
    "\n",
    "fruit[0] = \"pear\"\n",
    "fruit[-1] = \"orange\"\n",
    "print(fruit)"
   ]
  },
  {
   "cell_type": "markdown",
   "id": "6e1b0766-fc60-4aca-a942-3c971240ba6c",
   "metadata": {
    "@deathbeds/jupyterlab-fonts": {
     "styles": {
      "": {
       "body[data-jp-deck-mode='presenting'] &": {
        "zoom": "164%"
       }
      }
     }
    }
   },
   "source": [
    "- Item assignment - an assignment to an element of a list"
   ]
  },
  {
   "cell_type": "markdown",
   "id": "780d779c-b2bc-4c32-b551-11ffc24053bb",
   "metadata": {
    "@deathbeds/jupyterlab-fonts": {
     "styles": {
      "": {
       "body[data-jp-deck-mode='presenting'] &": {
        "zoom": "138%"
       }
      }
     }
    },
    "slideshow": {
     "slide_type": "slide"
    }
   },
   "source": [
    "## Lists are Mutable (con’t)\n",
    "- Update several elements at once:"
   ]
  },
  {
   "cell_type": "code",
   "execution_count": 63,
   "id": "a4ceeda8-3c86-4462-9536-b45f8d89b3a9",
   "metadata": {
    "@deathbeds/jupyterlab-fonts": {
     "styles": {
      "": {
       "body[data-jp-deck-mode='presenting'] &": {
        "zoom": "161%"
       }
      }
     }
    }
   },
   "outputs": [
    {
     "name": "stdout",
     "output_type": "stream",
     "text": [
      "['a', 'x', 'y', 'd', 'e', 'f']\n"
     ]
    }
   ],
   "source": [
    "alist = ['a', 'b', 'c', 'd', 'e', 'f']\n",
    "alist[1:3] = ['x', 'y']\n",
    "print(alist)"
   ]
  },
  {
   "cell_type": "code",
   "execution_count": 64,
   "id": "9db6d7f3-b710-4af3-ae0d-3e236423c4c8",
   "metadata": {
    "@deathbeds/jupyterlab-fonts": {
     "styles": {
      "": {
       "body[data-jp-deck-mode='presenting'] &": {
        "zoom": "154%"
       }
      }
     }
    }
   },
   "outputs": [
    {
     "name": "stdout",
     "output_type": "stream",
     "text": [
      "['a', 'd', 'e', 'f']\n"
     ]
    }
   ],
   "source": [
    "## Remove elements from a list by assigning the empty list (use del – next slide):\n",
    "alist = ['a', 'b', 'c', 'd', 'e', 'f']\n",
    "alist[1:3] = []\n",
    "print(alist)"
   ]
  },
  {
   "cell_type": "code",
   "execution_count": 65,
   "id": "611cb562-b115-43ff-a89a-d2172ab74780",
   "metadata": {
    "@deathbeds/jupyterlab-fonts": {
     "styles": {
      "": {
       "body[data-jp-deck-mode='presenting'] &": {
        "zoom": "151%"
       }
      }
     }
    }
   },
   "outputs": [
    {
     "name": "stdout",
     "output_type": "stream",
     "text": [
      "['a', 'b', 'c', 'd', 'f']\n",
      "['a', 'b', 'c', 'd', 'e', 'f']\n"
     ]
    }
   ],
   "source": [
    "## Insert elements with an empty slice (use .insert – slide 16):\n",
    "alist = ['a', 'd', 'f']\n",
    "alist[1:1] = ['b', 'c']\n",
    "print(alist)\n",
    "alist[4:4] = ['e']\n",
    "print(alist)"
   ]
  },
  {
   "cell_type": "markdown",
   "id": "bd925958-f111-4bf9-bc61-5d2713a59227",
   "metadata": {
    "@deathbeds/jupyterlab-fonts": {
     "styles": {
      "": {
       "body[data-jp-deck-mode='presenting'] &": {
        "zoom": "170%"
       }
      }
     }
    },
    "slideshow": {
     "slide_type": "slide"
    }
   },
   "source": [
    "## List Deletion\n",
    "- del statement removes an element from a list by using its position"
   ]
  },
  {
   "cell_type": "code",
   "execution_count": 66,
   "id": "f2913a58-47ab-4554-94ab-e7d4fc4dd9d7",
   "metadata": {
    "@deathbeds/jupyterlab-fonts": {
     "styles": {
      "": {
       "body[data-jp-deck-mode='presenting'] &": {
        "zoom": "167%"
       }
      }
     }
    }
   },
   "outputs": [
    {
     "name": "stdout",
     "output_type": "stream",
     "text": [
      "['one', 'three']\n",
      "['a', 'f']\n"
     ]
    }
   ],
   "source": [
    "a = ['one', 'two', 'three']\n",
    "del a[1]\n",
    "print(a)\n",
    "\n",
    "alist = ['a', 'b', 'c', 'd', 'e', 'f']\n",
    "del alist[1:5]\n",
    "print(alist)"
   ]
  },
  {
   "attachments": {
    "127b4999-d338-498d-bed2-74dd7f36dd2a.png": {
     "image/png": "[encoded data removed]"
    },
    "b56fae22-f7fa-4ad5-932c-25720af78b4a.png": {
     "image/png": "[encoded data removed]"
    }
   },
   "cell_type": "markdown",
   "id": "4aa4ad9e-22bc-437d-bb81-d08eac72bc7b",
   "metadata": {
    "@deathbeds/jupyterlab-fonts": {
     "styles": {
      "": {
       "body[data-jp-deck-mode='presenting'] &": {
        "zoom": "208%"
       }
      }
     }
    },
    "slideshow": {
     "slide_type": "slide"
    }
   },
   "source": [
    "# Objects and References\n",
    "\n",
    "<img src=\"attachment:127b4999-d338-498d-bed2-74dd7f36dd2a.png\" alt=\"Variable References\" width=\"200\"/>\n",
    "<img src=\"attachment:b56fae22-f7fa-4ad5-932c-25720af78b4a.png\" alt=\"List References\" width=\"200\"/>"
   ]
  },
  {
   "cell_type": "markdown",
   "id": "d4f4b61f-73c7-4f8b-a18c-4c732372ac06",
   "metadata": {
    "@deathbeds/jupyterlab-fonts": {
     "styles": {
      "": {
       "body[data-jp-deck-mode='presenting'] &": {
        "zoom": "135%"
       }
      }
     }
    },
    "slideshow": {
     "slide_type": "slide"
    }
   },
   "source": [
    "## Aliasing\n",
    "- Aliased – the same list has two different names, a and b\n",
    "- Changes made with one alias affect the other (unlike variables)"
   ]
  },
  {
   "cell_type": "code",
   "execution_count": 67,
   "id": "b0ed7aa5-dfb5-4389-a201-2942e965f879",
   "metadata": {
    "@deathbeds/jupyterlab-fonts": {
     "styles": {
      "": {
       "body[data-jp-deck-mode='presenting'] &": {
        "zoom": "142%"
       }
      }
     }
    },
    "scrolled": true
   },
   "outputs": [
    {
     "name": "stdout",
     "output_type": "stream",
     "text": [
      "True\n",
      "True\n",
      "banana\n"
     ]
    }
   ],
   "source": [
    "a=\"banana\"\n",
    "b=a\n",
    "print(a == b)\n",
    "print(a is b)\n",
    "b=\"apple\"\n",
    "print(a)"
   ]
  },
  {
   "cell_type": "code",
   "execution_count": 68,
   "id": "0ea1c8df-4555-4cae-81cb-8ce92f7ccdd9",
   "metadata": {
    "@deathbeds/jupyterlab-fonts": {
     "styles": {
      "": {
       "body[data-jp-deck-mode='presenting'] &": {
        "zoom": "151%"
       }
      }
     }
    },
    "slideshow": {
     "slide_type": "subslide"
    }
   },
   "outputs": [
    {
     "name": "stdout",
     "output_type": "stream",
     "text": [
      "True\n",
      "False\n",
      "True\n",
      "True\n",
      "[5, 82, 83]\n"
     ]
    }
   ],
   "source": [
    "a = [81, 82, 83]\n",
    "b = [81, 82, 83]\n",
    "print(a == b)\n",
    "print(a is b)\n",
    " \t\n",
    "b = a\n",
    "print(a == b)\n",
    "print(a is b)\t\n",
    "b[0] = 5\n",
    "print(a)"
   ]
  },
  {
   "cell_type": "markdown",
   "id": "17aea214-3f26-4692-99f1-cda381ae091e",
   "metadata": {
    "@deathbeds/jupyterlab-fonts": {
     "styles": {
      "": {
       "body[data-jp-deck-mode='presenting'] &": {
        "zoom": "151%"
       }
      }
     }
    },
    "slideshow": {
     "slide_type": "slide"
    }
   },
   "source": [
    "## Cloning Lists\n",
    "- Cloning - modify a list and keep a copy of the original\n",
    "- Must make a copy of the list itself, not just the reference"
   ]
  },
  {
   "cell_type": "code",
   "execution_count": 69,
   "id": "7bee6aa7-0494-49bf-8066-0a04ea031820",
   "metadata": {
    "@deathbeds/jupyterlab-fonts": {
     "styles": {
      "": {
       "body[data-jp-deck-mode='presenting'] &": {
        "zoom": "135%"
       }
      }
     }
    }
   },
   "outputs": [
    {
     "name": "stdout",
     "output_type": "stream",
     "text": [
      "True\n",
      "False\n",
      "[81, 82, 83]\n",
      "[5, 82, 83]\n"
     ]
    }
   ],
   "source": [
    "a = [81, 82, 83]\n",
    "b = a[:]       # make a clone using slice\n",
    "print(a == b)\n",
    "print(a is b)\n",
    "b[0] = 5\n",
    "print(a)\n",
    "print(b)"
   ]
  },
  {
   "attachments": {
    "680593eb-8d64-46aa-bb91-868c95015de7.png": {
     "image/png": "[encoded data removed]"
    }
   },
   "cell_type": "markdown",
   "id": "7ce6cbec-c757-43c0-ad56-53776a7f7c6f",
   "metadata": {
    "@deathbeds/jupyterlab-fonts": {
     "styles": {
      "": {
       "body[data-jp-deck-mode='presenting'] &": {
        "zoom": "135%"
       }
      }
     }
    },
    "slideshow": {
     "slide_type": "slide"
    }
   },
   "source": [
    "## Repetition and References\n",
    "<img src=\"attachment:680593eb-8d64-46aa-bb91-868c95015de7.png\" alt=\"List References\" width=\"200\"/>"
   ]
  },
  {
   "cell_type": "code",
   "execution_count": 51,
   "id": "fbeaafff-db60-4921-92e9-86964d8d0de3",
   "metadata": {
    "@deathbeds/jupyterlab-fonts": {
     "styles": {
      "": {
       "body[data-jp-deck-mode='presenting'] &": {
        "zoom": "151%"
       }
      }
     }
    }
   },
   "outputs": [
    {
     "name": "stdout",
     "output_type": "stream",
     "text": [
      "[[45, 76, 34, 55], [45, 76, 34, 55], [45, 76, 34, 55]]\n"
     ]
    }
   ],
   "source": [
    "origlist = [45, 76, 34, 55]\n",
    "\n",
    "newlist = [origlist] * 3\n",
    "\n",
    "print(newlist)"
   ]
  },
  {
   "cell_type": "code",
   "execution_count": 52,
   "id": "2d728332-614a-4f89-a895-2f3f83dc4484",
   "metadata": {
    "@deathbeds/jupyterlab-fonts": {
     "styles": {
      "": {
       "body[data-jp-deck-mode='presenting'] &": {
        "zoom": "138%"
       }
      }
     }
    }
   },
   "outputs": [
    {
     "name": "stdout",
     "output_type": "stream",
     "text": [
      "[[45, 99, 34, 55], [45, 99, 34, 55], [45, 99, 34, 55]]\n"
     ]
    }
   ],
   "source": [
    "origlist[1] = 99\n",
    "\n",
    "print(newlist)"
   ]
  },
  {
   "cell_type": "markdown",
   "id": "120b64d3-62db-4eeb-9e19-250e04c0f705",
   "metadata": {
    "@deathbeds/jupyterlab-fonts": {
     "styles": {
      "": {
       "body[data-jp-deck-mode='presenting'] &": {
        "zoom": "199%"
       }
      }
     }
    },
    "slideshow": {
     "slide_type": "slide"
    }
   },
   "source": [
    "## List Methods\n",
    "- See table in text\n",
    "- Mutator - the list is changed by the method but nothing is returned (actually None is returned)\n",
    "- A hybrid method - changes the list and returns a value as its result\n",
    "- See code in slide notes\n",
    "- Never do this unless you want to lose the list:\n",
    "- mylist = mylist.sort()    #returns None and assigns it to mylist"
   ]
  },
  {
   "cell_type": "markdown",
   "id": "27dc61e7-06f1-4c37-a58c-dd311384fb1a",
   "metadata": {
    "@deathbeds/jupyterlab-fonts": {
     "styles": {
      "": {
       "body[data-jp-deck-mode='presenting'] &": {
        "zoom": "158%"
       }
      }
     }
    },
    "slideshow": {
     "slide_type": "slide"
    }
   },
   "source": [
    "## Append versus Concatenate\n",
    "- append method adds a new item to the end of a list"
   ]
  },
  {
   "cell_type": "code",
   "execution_count": 72,
   "id": "4d94a010-af8c-4230-961d-743069ef67b5",
   "metadata": {
    "@deathbeds/jupyterlab-fonts": {
     "styles": {
      "": {
       "body[data-jp-deck-mode='presenting'] &": {
        "zoom": "158%"
       }
      }
     }
    }
   },
   "outputs": [
    {
     "name": "stdout",
     "output_type": "stream",
     "text": [
      "[45, 32, 88, 'cat']\n"
     ]
    }
   ],
   "source": [
    "origlist = [45, 32, 88]\n",
    "origlist.append(\"cat\")\n",
    "print(origlist)"
   ]
  },
  {
   "cell_type": "markdown",
   "id": "14db6760-92ce-42f8-b9bf-02c5ed23ce09",
   "metadata": {
    "@deathbeds/jupyterlab-fonts": {
     "styles": {
      "": {
       "body[data-jp-deck-mode='presenting'] &": {
        "zoom": "145%"
       }
      }
     }
    }
   },
   "source": [
    "- The concatenation operator + needs two lists to work:"
   ]
  },
  {
   "cell_type": "code",
   "execution_count": 73,
   "id": "5abda645-3cfe-4138-bd64-02d715c3b863",
   "metadata": {
    "@deathbeds/jupyterlab-fonts": {
     "styles": {
      "": {
       "body[data-jp-deck-mode='presenting'] &": {
        "zoom": "154%"
       }
      }
     }
    }
   },
   "outputs": [
    {
     "name": "stdout",
     "output_type": "stream",
     "text": [
      "[45, 32, 88, 'cat']\n"
     ]
    }
   ],
   "source": [
    "origlist = [45, 32, 88]\n",
    "origlist = origlist + [\"cat\"]\n",
    "print(origlist)"
   ]
  },
  {
   "cell_type": "markdown",
   "id": "8ff5babc-c589-4fb9-84ff-f451cae92635",
   "metadata": {
    "@deathbeds/jupyterlab-fonts": {
     "styles": {
      "": {
       "body[data-jp-deck-mode='presenting'] &": {
        "zoom": "151%"
       }
      }
     }
    },
    "slideshow": {
     "slide_type": "slide"
    }
   },
   "source": [
    "## Lists and for loops\n",
    "- List traversal using iteration by item:"
   ]
  },
  {
   "cell_type": "code",
   "execution_count": null,
   "id": "02043094-c7b1-40a1-b6b4-87136139ecbf",
   "metadata": {
    "@deathbeds/jupyterlab-fonts": {
     "styles": {
      "": {
       "body[data-jp-deck-mode='presenting'] &": {
        "zoom": "167%"
       }
      }
     }
    }
   },
   "outputs": [],
   "source": [
    "fruits = [\"apple\", \"orange\", \"banana\", \"cherry\"]\n",
    "for afruit in fruits:     # by item\n",
    "    print(afruit)"
   ]
  },
  {
   "cell_type": "markdown",
   "id": "5cadbf4c-c839-4228-9316-bd6cfd5d50b8",
   "metadata": {
    "@deathbeds/jupyterlab-fonts": {
     "styles": {
      "": {
       "body[data-jp-deck-mode='presenting'] &": {
        "zoom": "154%"
       }
      }
     }
    }
   },
   "source": [
    "- List traversal using iteration by index:"
   ]
  },
  {
   "cell_type": "code",
   "execution_count": null,
   "id": "f93db077-f76a-4e68-b386-d0651e4e3ca1",
   "metadata": {
    "@deathbeds/jupyterlab-fonts": {
     "styles": {
      "": {
       "body[data-jp-deck-mode='presenting'] &": {
        "zoom": "154%"
       }
      }
     }
    }
   },
   "outputs": [],
   "source": [
    "numbers = [1, 2, 3, 4, 5]\n",
    "print(numbers)\n",
    "for i in range(len(numbers)):\n",
    "    numbers[i] = numbers[i] ** 2\n",
    "print(numbers)"
   ]
  },
  {
   "cell_type": "markdown",
   "id": "998e3e15-1036-4d34-828c-e5d55ef1e902",
   "metadata": {
    "@deathbeds/jupyterlab-fonts": {
     "styles": {
      "": {
       "body[data-jp-deck-mode='presenting'] &": {
        "zoom": "167%"
       }
      }
     }
    },
    "slideshow": {
     "slide_type": "slide"
    }
   },
   "source": [
    "## Using Lists as Parameters\n",
    "- Modifiers - functions which take lists as arguments and change them during execution \n",
    "- Side effects - the changes modifiers make"
   ]
  },
  {
   "cell_type": "code",
   "execution_count": 74,
   "id": "e21fcabd-9cec-4647-b2d9-45a27fdb14ea",
   "metadata": {
    "@deathbeds/jupyterlab-fonts": {
     "styles": {
      "": {
       "body[data-jp-deck-mode='presenting'] &": {
        "zoom": "142%"
       }
      }
     }
    }
   },
   "outputs": [
    {
     "name": "stdout",
     "output_type": "stream",
     "text": [
      "[2, 5, 9]\n",
      "[4, 10, 18]\n"
     ]
    }
   ],
   "source": [
    "def doubleStuff(aList):\n",
    "    for position in range(len(aList)):\n",
    "        aList[position] = 2 * aList[position]\n",
    "things = [2, 5, 9]\n",
    "print(things)\n",
    "doubleStuff(things)\n",
    "print(things)"
   ]
  },
  {
   "cell_type": "markdown",
   "id": "72c7d901-2660-40c5-88e7-2c2c13b4dba2",
   "metadata": {
    "@deathbeds/jupyterlab-fonts": {
     "styles": {
      "": {
       "body[data-jp-deck-mode='presenting'] &": {
        "zoom": "151%"
       }
      }
     }
    },
    "slideshow": {
     "slide_type": "slide"
    }
   },
   "source": [
    "## Pure Functions\n",
    "- A pure function does not produce side effects (often better - functional programming style):"
   ]
  },
  {
   "cell_type": "code",
   "execution_count": 2,
   "id": "090a577a-bc74-4eae-ab8c-f2c6cebc6966",
   "metadata": {
    "@deathbeds/jupyterlab-fonts": {
     "styles": {
      "": {
       "body[data-jp-deck-mode='presenting'] &": {
        "zoom": "158%"
       }
      }
     }
    }
   },
   "outputs": [
    {
     "name": "stdout",
     "output_type": "stream",
     "text": [
      "[2, 5, 9]\n",
      "[2, 5, 9]\n",
      "[4, 10, 18]\n"
     ]
    }
   ],
   "source": [
    "def doubleStuff(a_list):\n",
    "    \"\"\" Return a new list in which contains doubles of the elements in a_list. \"\"\"\n",
    "    new_list = []\n",
    "    for value in a_list:\n",
    "        new_elem = 2 * value\n",
    "        new_list.append(new_elem)\n",
    "    return new_list\n",
    "things = [2, 5, 9]\n",
    "print(things)\n",
    "things1 = doubleStuff(things)\n",
    "print(things)\n",
    "print(things1)"
   ]
  },
  {
   "cell_type": "markdown",
   "id": "c2f8a912-93b1-403f-872d-1fd89c7abc89",
   "metadata": {
    "@deathbeds/jupyterlab-fonts": {
     "styles": {
      "": {
       "body[data-jp-deck-mode='presenting'] &": {
        "zoom": "132%"
       }
      }
     }
    },
    "slideshow": {
     "slide_type": "slide"
    }
   },
   "source": [
    "## Functions that Produce Lists\n",
    "- The pattern:\n",
    "- initialize a result variable to be an empty list\n",
    "- loop\n",
    "-    create a new element\n",
    "-    append it to result\n",
    "- return the result\n",
    "- For example:"
   ]
  },
  {
   "cell_type": "code",
   "execution_count": null,
   "id": "97a1d402-8c2a-4df3-b138-761fdd8ef79c",
   "metadata": {
    "@deathbeds/jupyterlab-fonts": {
     "styles": {
      "": {
       "body[data-jp-deck-mode='presenting'] &": {
        "zoom": "110%"
       }
      }
     }
    }
   },
   "outputs": [],
   "source": [
    "def is_prime(num):\n",
    "    stillPrime = True\n",
    "    for i in range(2,int(num/2)+1, 1):\n",
    "        if num % i == 0:\n",
    "            stillPrime = False\n",
    "    return stillPrime\n",
    "\n",
    "def primes_upto(n):\n",
    "    \"\"\" Return a list of all prime numbers less than n. \"\"\"\n",
    "    result = []\n",
    "    for i in range(2, n):\n",
    "        if is_prime(i):\n",
    "            result.append(i)\n",
    "    return result\n",
    "\n",
    "print(primes_upto(100))"
   ]
  },
  {
   "cell_type": "markdown",
   "id": "baf0b3d4-903e-4eac-8da1-3643a459be6b",
   "metadata": {
    "@deathbeds/jupyterlab-fonts": {
     "styles": {
      "": {
       "body[data-jp-deck-mode='presenting'] &": {
        "zoom": "151%"
       }
      }
     }
    },
    "slideshow": {
     "slide_type": "slide"
    }
   },
   "source": [
    "## List Comprehensions\n",
    "- List comprehensions - concise ways to create lists\n",
    "- \\[\\<expression> for \\<item> in \\<sequence> if  \\<condition>\\]\n",
    "- For example:"
   ]
  },
  {
   "cell_type": "code",
   "execution_count": 3,
   "id": "37e1da50-450b-4d47-8aea-edfbb0de4927",
   "metadata": {
    "@deathbeds/jupyterlab-fonts": {
     "styles": {
      "": {
       "body[data-jp-deck-mode='presenting'] &": {
        "zoom": "177%"
       }
      }
     }
    }
   },
   "outputs": [
    {
     "name": "stdout",
     "output_type": "stream",
     "text": [
      "[1, 4, 9, 16, 25]\n"
     ]
    }
   ],
   "source": [
    "# Example 1\n",
    "mylist = [1,2,3,4,5]\n",
    "yourlist = [item ** 2 for item in mylist]\n",
    "print(yourlist)"
   ]
  },
  {
   "cell_type": "code",
   "execution_count": 53,
   "id": "42857556-ce4e-4857-8be2-9e2f42c5cbf0",
   "metadata": {
    "@deathbeds/jupyterlab-fonts": {
     "styles": {
      "": {
       "body[data-jp-deck-mode='presenting'] &": {
        "zoom": "161%"
       }
      }
     }
    }
   },
   "outputs": [
    {
     "name": "stdout",
     "output_type": "stream",
     "text": [
      "[2, 3, 5, 7]\n"
     ]
    }
   ],
   "source": [
    "# Example 2\n",
    "def primes_upto(n):\n",
    "    result = [num for num in range(2,n) if is_prime(num)]\n",
    "    return result\n",
    "\n",
    "print(primes_upto(10))"
   ]
  },
  {
   "cell_type": "markdown",
   "id": "df81eab7-a03f-4403-bfb4-c999013f7c81",
   "metadata": {
    "@deathbeds/jupyterlab-fonts": {
     "styles": {
      "": {
       "body[data-jp-deck-mode='presenting'] &": {
        "zoom": "164%"
       }
      }
     }
    },
    "slideshow": {
     "slide_type": "slide"
    }
   },
   "source": [
    "## Nested Lists\n",
    "- Nested list - a list that appears as an element in another list"
   ]
  },
  {
   "cell_type": "code",
   "execution_count": 4,
   "id": "a9ce634d-8bcb-4f28-928f-1dcb1a83e96b",
   "metadata": {
    "@deathbeds/jupyterlab-fonts": {
     "styles": {
      "": {
       "body[data-jp-deck-mode='presenting'] &": {
        "zoom": "167%"
       }
      }
     }
    }
   },
   "outputs": [
    {
     "name": "stdout",
     "output_type": "stream",
     "text": [
      "[10, 20]\n",
      "20\n",
      "20\n"
     ]
    }
   ],
   "source": [
    "nested = [\"hello\", 2.0, 5, [10, 20]]\n",
    "innerlist = nested[3]\n",
    "print(innerlist)\n",
    "item = innerlist[1]\n",
    "print(item)\n",
    "\n",
    "print(nested[3][1])"
   ]
  },
  {
   "cell_type": "markdown",
   "id": "6862c492-2eff-4439-aed0-4c0cc10e6733",
   "metadata": {
    "@deathbeds/jupyterlab-fonts": {
     "styles": {
      "": {
       "body[data-jp-deck-mode='presenting'] &": {
        "zoom": "151%"
       }
      }
     }
    },
    "slideshow": {
     "slide_type": "slide"
    }
   },
   "source": [
    "## Strings and Lists\n",
    "- split method breaks a string into a list of words"
   ]
  },
  {
   "cell_type": "code",
   "execution_count": 5,
   "id": "171a2277-e6d6-4c6a-9482-e7e488bc26cb",
   "metadata": {
    "@deathbeds/jupyterlab-fonts": {
     "styles": {
      "": {
       "body[data-jp-deck-mode='presenting'] &": {
        "zoom": "154%"
       }
      }
     }
    }
   },
   "outputs": [
    {
     "name": "stdout",
     "output_type": "stream",
     "text": [
      "['The', 'rain', 'in', 'Spain...']\n"
     ]
    }
   ],
   "source": [
    "song = \"The rain in Spain...\"\n",
    "wds = song.split()\n",
    "print(wds)"
   ]
  },
  {
   "cell_type": "markdown",
   "id": "282571e0-ab78-4a10-b5a5-730382053a39",
   "metadata": {
    "@deathbeds/jupyterlab-fonts": {
     "styles": {
      "": {
       "body[data-jp-deck-mode='presenting'] &": {
        "zoom": "129%"
       }
      }
     }
    }
   },
   "source": [
    "- delimiter - an optional character used to specify which characters to use as word boundaries"
   ]
  },
  {
   "cell_type": "code",
   "execution_count": 6,
   "id": "1f7dedc9-e633-41b4-aafd-177564f5fb95",
   "metadata": {
    "@deathbeds/jupyterlab-fonts": {
     "styles": {
      "": {
       "body[data-jp-deck-mode='presenting'] &": {
        "zoom": "158%"
       }
      }
     }
    }
   },
   "outputs": [
    {
     "name": "stdout",
     "output_type": "stream",
     "text": [
      "['The r', 'n in Sp', 'n...']\n"
     ]
    }
   ],
   "source": [
    "song = \"The rain in Spain...\"\n",
    "wds = song.split('ai')\n",
    "print(wds)"
   ]
  },
  {
   "cell_type": "markdown",
   "id": "fa806697-318f-4153-870f-b04997b78772",
   "metadata": {
    "@deathbeds/jupyterlab-fonts": {
     "styles": {
      "": {
       "body[data-jp-deck-mode='presenting'] &": {
        "zoom": "164%"
       }
      }
     }
    },
    "slideshow": {
     "slide_type": "slide"
    }
   },
   "source": [
    "Strings and Lists (con’t)\n",
    "- Join method uses a desired separator string (glue) to join a list together without modifying the original list"
   ]
  },
  {
   "cell_type": "code",
   "execution_count": 7,
   "id": "1a6e3dcb-1a50-4ea2-bc23-10eda72821d6",
   "metadata": {
    "@deathbeds/jupyterlab-fonts": {
     "styles": {
      "": {
       "body[data-jp-deck-mode='presenting'] &": {
        "zoom": "151%"
       }
      }
     }
    }
   },
   "outputs": [
    {
     "name": "stdout",
     "output_type": "stream",
     "text": [
      "red;blue;green\n",
      "['red', 'blue', 'green']\n",
      "red***blue***green\n",
      "redbluegreen\n",
      "['red', 'blue', 'green']\n"
     ]
    }
   ],
   "source": [
    "wds = [\"red\", \"blue\", \"green\"]\n",
    "glue = ';'\n",
    "s = glue.join(wds)\n",
    "print(s)\n",
    "print(wds)\n",
    "print(\"***\".join(wds))\n",
    "print(\"\".join(wds))\n",
    "print(wds)\n"
   ]
  },
  {
   "cell_type": "markdown",
   "id": "2e47d186-9d38-45ed-876a-059f05660a2f",
   "metadata": {
    "@deathbeds/jupyterlab-fonts": {
     "styles": {
      "": {
       "body[data-jp-deck-mode='presenting'] &": {
        "zoom": "151%"
       }
      }
     }
    },
    "slideshow": {
     "slide_type": "slide"
    }
   },
   "source": [
    "list Type Conversion Function\n",
    "- list - conversion function that tries to turn argument into a list"
   ]
  },
  {
   "cell_type": "code",
   "execution_count": 8,
   "id": "7bd7f504-15d6-4a4c-9919-511bd1fa576d",
   "metadata": {
    "@deathbeds/jupyterlab-fonts": {
     "styles": {
      "": {
       "body[data-jp-deck-mode='presenting'] &": {
        "zoom": "170%"
       }
      }
     }
    }
   },
   "outputs": [
    {
     "name": "stdout",
     "output_type": "stream",
     "text": [
      "['C', 'r', 'u', 'n', 'c', 'h', 'y', ' ', 'F', 'r', 'o', 'g']\n"
     ]
    }
   ],
   "source": [
    "xs = list(\"Crunchy Frog\")\n",
    "print(xs)"
   ]
  },
  {
   "cell_type": "markdown",
   "id": "b49b6c2e-3795-4c97-badc-b6cb73198151",
   "metadata": {
    "@deathbeds/jupyterlab-fonts": {
     "styles": {
      "": {
       "body[data-jp-deck-mode='presenting'] &": {
        "zoom": "189%"
       }
      }
     }
    },
    "slideshow": {
     "slide_type": "slide"
    }
   },
   "source": [
    "Remember:\n",
    "- split will break a string into a list of “words”\n",
    "- list will break a string into a list of characters"
   ]
  },
  {
   "cell_type": "markdown",
   "id": "2deee26a-0d4c-4d78-8bbf-ef0731815e19",
   "metadata": {
    "@deathbeds/jupyterlab-fonts": {
     "styles": {
      "": {
       "body[data-jp-deck-mode='presenting'] &": {
        "zoom": "205%"
       }
      }
     }
    },
    "slideshow": {
     "slide_type": "slide"
    }
   },
   "source": [
    "## Questions?"
   ]
  }
 ],
 "metadata": {
  "kernelspec": {
   "display_name": "Python 3 (ipykernel)",
   "language": "python",
   "name": "python3"
  },
  "language_info": {
   "codemirror_mode": {
    "name": "ipython",
    "version": 3
   },
   "file_extension": ".py",
   "mimetype": "text/x-python",
   "name": "python",
   "nbconvert_exporter": "python",
   "pygments_lexer": "ipython3",
   "version": "3.12.5"
  }
 },
 "nbformat": 4,
 "nbformat_minor": 5
}
