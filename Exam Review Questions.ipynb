{
 "cells": [
  {
   "attachments": {},
   "cell_type": "markdown",
   "id": "1aeee095-aeaa-41b0-90c0-b764fc9998c3",
   "metadata": {
    "jp-MarkdownHeadingCollapsed": true
   },
   "source": [
    "# Exam Review\n",
    "\n",
    "## Input Validation with Retry + Conditional Logic\n",
    "Write a program that asks the user for their birth year. If the input is not a 4-digit number between 1900 and 2025, ask again until they provide a valid number. Once valid, calculate and print how old they will be in the year 2050.\n",
    "\n",
    "Bonus: Add a message if their age in 2050 is over 100 — e.g., \"Wow! You'll be [age] in 2050!\"\n",
    "\n",
    "## Functions, Loops, and Conditional Branching\n",
    "Create a program that defines a function generate_password(length, use_symbols) that:\n",
    "\n",
    "- Accepts a desired password length (int)\n",
    "- Accepts a boolean (True or False) to determine if symbols should be included\n",
    "- Returns a randomly generated password\n",
    "- Use the random and string modules to construct the password, and prompt the user for inputs.\n",
    "\n",
    "## Menu System with Main Loop\n",
    "Create a program with a main() function that shows this menu:\n",
    "\n",
    "What would you like to do?\n",
    "1. Convert Celsius to Fahrenheit\n",
    "2. Check if a number is prime\n",
    "3. Exit\n",
    "\n",
    "Each option should call a separate function. Use input validation and keep showing the menu until the user chooses to exit.\n",
    "\n",
    "## Advanced Turtle Drawing with Input\n",
    "Use the turtle module to create a function draw_star(size, color) that:\n",
    "- Draws a 5-pointed star of the given size\n",
    "- Fills it with the given color\n",
    "\n",
    "Ask the user how many stars to draw, and randomly position and color each one using a loop. Ensure stars don’t draw off the screen.\n",
    "\n",
    "Use turtle.colormode(255) and random.randint() for RGB values.\n",
    "\n",
    "## Error-Handled Math Quiz\n",
    "Create a math quiz game that:\n",
    "- Randomly generates two numbers and an operator (+, -, *)\n",
    "- Asks the user to solve it\n",
    "- Validates input (must be a number)\n",
    "- Keeps score over 5 questions, then prints the score and percent correct\n",
    "\n",
    "## Input-Driven Turtle Scene\n",
    "Ask the user to choose elements of a scene:\n",
    "- Day or night\n",
    "- Number of trees\n",
    "- Whether to draw a sun or moon\n",
    "\n",
    "Then use functions like draw_tree(x, y) and draw_sky(mode) to generate a unique scene using turtle. Use loops and conditionals to place elements based on input."
   ]
  }
 ],
 "metadata": {
  "kernelspec": {
   "display_name": "Python 3 (ipykernel)",
   "language": "python",
   "name": "python3"
  },
  "language_info": {
   "codemirror_mode": {
    "name": "ipython",
    "version": 3
   },
   "file_extension": ".py",
   "mimetype": "text/x-python",
   "name": "python",
   "nbconvert_exporter": "python",
   "pygments_lexer": "ipython3",
   "version": "3.12.5"
  }
 },
 "nbformat": 4,
 "nbformat_minor": 5
}
